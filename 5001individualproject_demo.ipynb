{
  "nbformat": 4,
  "nbformat_minor": 0,
  "metadata": {
    "colab": {
      "name": "5001individualproject_demo.ipynb",
      "provenance": []
    },
    "kernelspec": {
      "name": "python3",
      "display_name": "Python 3"
    }
  },
  "cells": [
    {
      "cell_type": "code",
      "metadata": {
        "colab": {
          "base_uri": "https://localhost:8080/"
        },
        "id": "s9x65cTUZGd3",
        "outputId": "1e0916b3-6ead-4f63-924e-6f808ab5726c"
      },
      "source": [
        "import os \n",
        "import numpy as np",
        "import pandas as pd",
        "from google.colab import drive\n",
        "drive.mount('/content/drive')\n",
        "os.chdir('/content/drive/MyDrive/curriculum/5001/Individualproject')"
      ],
      "execution_count": 1,
      "outputs": [
        {
          "output_type": "stream",
          "text": [
            "Drive already mounted at /content/drive; to attempt to forcibly remount, call drive.mount(\"/content/drive\", force_remount=True).\n"
          ],
          "name": "stdout"
        }
      ]
    },
    {
      "cell_type": "code",
      "metadata": {
        "id": "F1oeSfHaTTcV"
      },
      "source": [
        "train = pd.read_csv(\"train.csv\")\n",
        "test = pd.read_csv(\"test.csv\")\n",
        "train[\"date\"] = pd.to_datetime(train[\"date\"])\n",
        "id = test['id']\n",
        "train.drop(['id'], axis=1, inplace=True)\n",
        "test[\"date\"] = pd.to_datetime(test[\"date\"])\n",
        "test.drop(['id'], axis=1, inplace=True)"
      ],
      "execution_count": 146,
      "outputs": []
    },
    {
      "cell_type": "code",
      "metadata": {
        "id": "fvghrQalb5vd"
      },
      "source": [
        "Y = train['speed']\n",
        "def train_features(df):\n",
        "  df[\"year\"] = df[\"date\"].dt.year\n",
        "  df[\"month\"] = df[\"date\"].dt.month\n",
        "  df[\"day\"] = df[\"date\"].dt.day\n",
        "  df[\"hour\"] = df[\"date\"].dt.hour\n",
        "  df[\"weekday\"] = df[\"date\"].dt.weekday\n",
        "  train_date = df[[\"year\",\"month\",\"day\",\"hour\",\"weekday\"]]\n",
        "  return train_date\n",
        "\n",
        "X = train_features(train)\n",
        "pre = train_features(test)"
      ],
      "execution_count": 147,
      "outputs": []
    },
    {
      "cell_type": "code",
      "metadata": {
        "id": "hHlh_aHZnA2m"
      },
      "source": [
        "from sklearn.preprocessing import OrdinalEncoder, OneHotEncoder\n",
        "import xgboost as xgb\n",
        "from sklearn.metrics import mean_squared_error\n",
        "# feature processing\n",
        "one_hot_enc = OneHotEncoder(handle_unknown='ignore')\n",
        "one_hot_enc.fit(X[\"year\"].values.reshape(-1, 1))\n",
        "tmp_array1 = one_hot_enc.transform(X[\"year\"].values.reshape(-1, 1)).toarray()\n",
        "tmp_col_name1 = one_hot_enc.get_feature_names(['year_'])\n",
        "tmp_df1 = pd.DataFrame(tmp_array1, columns=tmp_col_name1)\n",
        "\n",
        "X = pd.concat([tmp_df1, X], axis=1)\n",
        "X = X.drop('year',axis=1)\n",
        "X.head()\n",
        "#\n",
        "one_hot_enc = OneHotEncoder(handle_unknown='ignore')\n",
        "one_hot_enc.fit(pre[\"year\"].values.reshape(-1, 1))\n",
        "tmp_array2 = one_hot_enc.transform(pre[\"year\"].values.reshape(-1, 1)).toarray()\n",
        "tmp_col_name2 = one_hot_enc.get_feature_names(['year_'])\n",
        "tmp_df2 = pd.DataFrame(tmp_array2, columns=tmp_col_name2)\n",
        "column_2017 = {'year__2017': np.zeros(len(pre), dtype='float64')}\n",
        "df1 = pd.DataFrame(column_2017)\n",
        "pre = pd.concat([df1, tmp_df2, pre], axis=1)\n",
        "pre = pre.drop('year',axis=1)"
      ],
      "execution_count": 148,
      "outputs": []
    },
    {
      "cell_type": "code",
      "metadata": {
        "colab": {
          "base_uri": "https://localhost:8080/"
        },
        "id": "TcGVJKN3pLJd",
        "outputId": "60f1552b-41ac-43fd-bf2a-02d664964ec9"
      },
      "source": [
        "x_train, x_test, y_train, y_test = train_test_split(X, Y, test_size=0.2, random_state=0)\n",
        "'''\n",
        "####决策树回归####\n",
        "from sklearn import tree\n",
        "model_DecisionTreeRegressor = tree.DecisionTreeRegressor()\n",
        "####线性回归####\n",
        "from sklearn import linear_model\n",
        "model_LinearRegression = linear_model.LinearRegression()\n",
        "####SVM回归####\n",
        "from sklearn import svm\n",
        "model_SVR = svm.SVR()\n",
        "####KNN回归####\n",
        "from sklearn import neighbors\n",
        "model_KNeighborsRegressor = neighbors.KNeighborsRegressor()\n",
        "####随机森林回归####\n",
        "from sklearn import ensemble\n",
        "model_RandomForestRegressor = ensemble.RandomForestRegressor(n_estimators=20)#这里使用20个决策树\n",
        "####Adaboost回归####\n",
        "from sklearn import ensemble\n",
        "model_AdaBoostRegressor = ensemble.AdaBoostRegressor(n_estimators=50)#这里使用50个决策树\n",
        "####GBRT回归####\n",
        "from sklearn import ensemble\n",
        "model_GradientBoostingRegressor = ensemble.GradientBoostingRegressor(n_estimators=100)#这里使用100个决策树\n",
        "####Bagging回归####\n",
        "from sklearn.ensemble import BaggingRegressor\n",
        "model_BaggingRegressor = BaggingRegressor()\n",
        "####ExtraTree极端随机树回归####\n",
        "from sklearn.tree import ExtraTreeRegressor\n",
        "model_ExtraTreeRegressor = ExtraTreeRegressor()\n",
        "'''\n",
        "model = xgb.XGBRegressor(max_depth=10, eta=0.2, n_estimators=200)\n",
        "model.fit(x_train, y_train)\n",
        "predicted_y = model.predict(x_test)\n",
        "print('Test Score:', mean_squared_error(y_test, predicted_y))"
      ],
      "execution_count": 149,
      "outputs": [
        {
          "output_type": "stream",
          "text": [
            "[16:06:54] WARNING: /workspace/src/objective/regression_obj.cu:152: reg:linear is now deprecated in favor of reg:squarederror.\n",
            "Test Score: 15.282739455427171\n"
          ],
          "name": "stdout"
        }
      ]
    },
    {
      "cell_type": "code",
      "metadata": {
        "id": "fAL_yvq03Qw6"
      },
      "source": [
        "test_speed = model.predict(pre)\n",
        "column_id = pd.DataFrame({'id': id})\n",
        "column_speed = pd.DataFrame({'speed': test_speed})\n",
        "submit = pd.concat([column_id,  column_speed], axis=1)\n",
        "submit.to_csv('submit.csv', index=None)"
      ],
      "execution_count": 151,
      "outputs": []
    }
  ]
}
